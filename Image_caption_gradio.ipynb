{
 "cells": [
  {
   "cell_type": "code",
   "execution_count": 1,
   "id": "ce6ebc3b",
   "metadata": {},
   "outputs": [],
   "source": [
    "! pip install gradio\n",
    "! pip install transformers\n",
    "! pip install PIL\n",
    "! pip install torch"
   ]
  },
  {
   "cell_type": "code",
   "execution_count": null,
   "id": "a4a2460e",
   "metadata": {},
   "outputs": [],
   "source": [
    "import gradio as gr\n",
    "from transformers import BlipProcessor, BlipForConditionalGeneration\n",
    "from PIL import Image"
   ]
  },
  {
   "cell_type": "code",
   "execution_count": null,
   "id": "bc0f3a56",
   "metadata": {},
   "outputs": [],
   "source": [
    "processor = BlipProcessor.from_pretrained(\"Salesforce/blip-image-captioning-base\")\n",
    "model= BlipForConditionalGeneration.from_pretrained(\"Salesforce/blip-image-captioning-base\")"
   ]
  },
  {
   "cell_type": "code",
   "execution_count": null,
   "id": "a14b989d",
   "metadata": {},
   "outputs": [],
   "source": [
    "\n",
    "#Creating Function\n",
    "\n",
    "def generate_caption(image):\n",
    "    #Now Lets Create Input and out put \n",
    "    input= processor(images=image, return_tensors=\"pt\")\n",
    "    output = model.generate(**input)\n",
    "    caption = processor.decode(output[0],skip_special_tokens=True)\n",
    "    return caption\n",
    "\n",
    "\n",
    "#Creation Error Handler\n",
    "def caption_image(image):\n",
    "    \"\"\"\n",
    "    Takes a PIL Image input and returns a caption.\n",
    "    \"\"\"\n",
    "    try:\n",
    "        caption =generate_caption(image)\n",
    "        return caption\n",
    "    except Exception as e:\n",
    "        return f\"An error Occured:{str(e)}\"\n",
    "\n",
    "# Now useing Gradio for user interface\n",
    "iface= gr.Interface(\n",
    "    fn=caption_image,\n",
    "    inputs=gr.Image(type=\"pil\"),\n",
    "    outputs=\"text\",\n",
    "    title=\"Image_Caption_With_BLIP @HASITH\",\n",
    "    description=\"Upload an image to generate a caption\",\n",
    "\n",
    ")\n",
    "\n",
    "\n",
    "#Launching my iterface\n",
    "iface.launch(share=True)\n",
    "   \n",
    "\n"
   ]
  }
 ],
 "metadata": {
  "kernelspec": {
   "display_name": "Python 3",
   "language": "python",
   "name": "python3"
  },
  "language_info": {
   "codemirror_mode": {
    "name": "ipython",
    "version": 3
   },
   "file_extension": ".py",
   "mimetype": "text/x-python",
   "name": "python",
   "nbconvert_exporter": "python",
   "pygments_lexer": "ipython3",
   "version": "3.13.5"
  }
 },
 "nbformat": 4,
 "nbformat_minor": 5
}
