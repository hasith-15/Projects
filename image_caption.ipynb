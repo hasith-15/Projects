{
 "cells": [
  {
   "cell_type": "code",
   "execution_count": 1,
   "id": "539e5982",
   "metadata": {},
   "outputs": [],
   "source": [
    "! pip install gradio\n",
    "! pip install transformers\n",
    "! pip install PIL"
   ]
  },
  {
   "cell_type": "code",
   "execution_count": null,
   "id": "e138df74",
   "metadata": {},
   "outputs": [],
   "source": [
    "import gradio as gr\n",
    "from transformers import BlipProcessor, BlipForConditionalGeneration\n",
    "from PIL import Image"
   ]
  },
  {
   "cell_type": "code",
   "execution_count": null,
   "id": "e3cbb78a",
   "metadata": {},
   "outputs": [],
   "source": [
    "#Initialise Processor and model from hugging faces\n",
    "processor= BlipProcessor.from_pretrained(\"Salesforce/blip-image-captioning-base\",use_fast=True)\n",
    "model= BlipForConditionalGeneration.from_pretrained(\"Salesforce/blip-image-captioning-base\")"
   ]
  },
  {
   "cell_type": "code",
   "execution_count": null,
   "id": "b73b2f27",
   "metadata": {},
   "outputs": [],
   "source": [
    "#Load an image Here i used a sample image from my files.\n",
    "image= Image.open(r\"C:\\\\Users\\\\V.V.Hasith Reddy\\\\OneDrive\\\\Desktop\\\\tanjiro-kamado.jpg\")\n",
    "\n",
    "\n",
    "# Prepare the image \n",
    "input= processor(image, return_tensors=\"pt\")\n",
    "\n",
    "# Generate the Captions\n",
    "\n",
    "output= model.generate(**input)\n",
    "caption= processor.decode(output[0],skip_special_tokens=True)\n",
    "\n",
    "\n",
    "#Now print the final out put\n",
    "print(f\"Caption for the given image:{caption}\")\n"
   ]
  }
 ],
 "metadata": {
  "kernelspec": {
   "display_name": "Python 3",
   "language": "python",
   "name": "python3"
  },
  "language_info": {
   "codemirror_mode": {
    "name": "ipython",
    "version": 3
   },
   "file_extension": ".py",
   "mimetype": "text/x-python",
   "name": "python",
   "nbconvert_exporter": "python",
   "pygments_lexer": "ipython3",
   "version": "3.13.5"
  }
 },
 "nbformat": 4,
 "nbformat_minor": 5
}
