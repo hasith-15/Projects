{
 "cells": [
  {
   "cell_type": "code",
   "execution_count": null,
   "id": "d93e1112",
   "metadata": {},
   "outputs": [],
   "source": [
    "! pip install virtualenv\n",
    "! pip insall transformers\n",
    "! pip install gradio"
   ]
  },
  {
   "cell_type": "code",
   "execution_count": null,
   "id": "28b9766d",
   "metadata": {},
   "outputs": [],
   "source": [
    "from transformers import AutoTokenizer, AutoModelForSeq2SeqLM\n",
    "import gradio as gr"
   ]
  },
  {
   "cell_type": "code",
   "execution_count": null,
   "id": "d9039a9b",
   "metadata": {},
   "outputs": [],
   "source": [
    "#This is the model we gona use:\n",
    "model_name=\"facebook/blenderbot-400M-distill\""
   ]
  },
  {
   "cell_type": "code",
   "execution_count": null,
   "id": "e06e20e7",
   "metadata": {},
   "outputs": [],
   "source": [
    "#Now we shall download the Model from the Hugging faces:\n",
    "model= AutoModelForSeq2SeqLM.from_pretrained(model_name)\n",
    "tokenizer = AutoTokenizer.from_pretrained(model_name)"
   ]
  },
  {
   "cell_type": "code",
   "execution_count": null,
   "id": "bb931c3b",
   "metadata": {},
   "outputs": [],
   "source": [
    "def Chat_Bot(input_text,history):\n",
    "    from transformers import AutoTokenizer, AutoModelForSeq2SeqLM\n",
    "    model_name=\"facebook/blenderbot-400M-distill\"\n",
    "    model= AutoModelForSeq2SeqLM.from_pretrained(model_name)\n",
    "    tokenizer = AutoTokenizer.from_pretrained(model_name)\n",
    "    conversation_history= []\n",
    "    while True:\n",
    "        # Create conversation history string\n",
    "        history_string = \"\\n\".join(conversation_history)\n",
    "         # Get the input data from the user\n",
    "        input_text = input(\"Hello,This is Hasith\")\n",
    "        inputs = tokenizer.encode_plus(history_string, input_text, return_tensors=\"pt\")\n",
    "        # Generate the response from the model\n",
    "        outputs = model.generate(**inputs)\n",
    "        # Decode the response\n",
    "        response = tokenizer.decode(outputs[0], skip_special_tokens=True).strip()\n",
    "        # Add interaction to conversation history\n",
    "        conversation_history.append(input_text)\n",
    "        conversation_history.append(response)\n",
    "        return response\n",
    "# Gradio for User InterFace\n",
    "iface= gr.Interface(\n",
    "    fn=Chat_Bot,\n",
    "    inputs=gr.Textbox(lines=2, placeholder=\"Type your message here...\", label=\"Your Message\"),\n",
    "    outputs=gr.Chatbot(label=\"Bot Response\",height=400), \n",
    "    title=\"Open Source AI_BOT -@Hasith\",\n",
    "    description=\"Chat With the Blenderbot 400M Distill model.\",\n",
    "    theme=\"soft\",\n",
    ")\n",
    "\n",
    "\n",
    "#Launching our User_Interface\n",
    "iface.launch(share=True)\n",
    "\n",
    "        \n",
    "\n",
    "        \n",
    "        \n",
    "    \n"
   ]
  }
 ],
 "metadata": {
  "kernelspec": {
   "display_name": "Python 3",
   "language": "python",
   "name": "python3"
  },
  "language_info": {
   "codemirror_mode": {
    "name": "ipython",
    "version": 3
   },
   "file_extension": ".py",
   "mimetype": "text/x-python",
   "name": "python",
   "nbconvert_exporter": "python",
   "pygments_lexer": "ipython3",
   "version": "3.13.5"
  }
 },
 "nbformat": 4,
 "nbformat_minor": 5
}
